{
 "cells": [
  {
   "cell_type": "markdown",
   "id": "658edece",
   "metadata": {},
   "source": [
    "## Examples of PokePaste Import/Export and IO"
   ]
  },
  {
   "cell_type": "code",
   "execution_count": 1,
   "id": "212c750a",
   "metadata": {},
   "outputs": [],
   "source": [
    "import Pkg\n",
    "Pkg.activate(\"..\")\n",
    "using VsRecorderBase, VsRecorder"
   ]
  },
  {
   "cell_type": "code",
   "execution_count": 2,
   "id": "176787ff",
   "metadata": {},
   "outputs": [],
   "source": [
    "using Downloads, JSON"
   ]
  },
  {
   "cell_type": "code",
   "execution_count": 3,
   "id": "91bf16fa",
   "metadata": {},
   "outputs": [
    {
     "data": {
      "text/plain": [
       "Dict{String, Any} with 4 entries:\n",
       "  \"author\" => \"スノル\"\n",
       "  \"paste\"  => \"Calyrex-Ice @ Leftovers  \\r\\nAbility: As One (Glastrier)  \\r\\nLe…\n",
       "  \"notes\"  => \"https://github.com/Wild-Area/VsRecorder.jl\"\n",
       "  \"title\"  => \"Vs. Recorder Test Team\""
      ]
     },
     "execution_count": 3,
     "metadata": {},
     "output_type": "execute_result"
    }
   ],
   "source": [
    "input1 = open(Downloads.download(\"https://pokepast.es/95c4a2af6731969b/json\")) do fi\n",
    "    JSON.parse(fi)\n",
    "end"
   ]
  },
  {
   "cell_type": "code",
   "execution_count": 4,
   "id": "bd2c554c",
   "metadata": {},
   "outputs": [
    {
     "data": {
      "text/plain": [
       "VsRecorder.Team(\"Vs. Recorder Test Team\", \"スノル\", \"https://github.com/Wild-Area/VsRecorder.jl\", VsRecorder.Pokemon[VsRecorder.Pokemon(\"calyrex-ice\", missing, MoveID[\"protect\", \"glacial-lance\", \"iron-defense\", \"body-press\"], missing, 50, \"leftovers\", VsRecorder.Stats(207, 186, 170, 94, 150, 112), \"as-one-glastrier\", \"jolly\", missing, false, false), VsRecorder.Pokemon(\"ho-oh\", missing, MoveID[\"burn-up\", \"air-slash\", \"earth-power\", \"ancient-power\"], missing, 50, \"weakness-policy\", VsRecorder.Stats(213, 121, 111, 166, 175, 121), \"regenerator\", \"modest\", missing, false, false), VsRecorder.Pokemon(\"raichu\", missing, MoveID[\"fake-out\", \"nuzzle\", \"volt-switch\", \"eerie-impulse\"], missing, 50, \"focus-sash\", VsRecorder.Stats(167, 99, 75, 110, 101, 178), \"lightning-rod\", \"timid\", missing, false, false), VsRecorder.Pokemon(\"incineroar\", missing, MoveID[\"fake-out\", \"flare-blitz\", \"throat-chop\", \"parting-shot\"], missing, 50, \"shuca-berry\", VsRecorder.Stats(201, 135, 110, 90, 112, 123), \"intimidate\", \"jolly\", missing, false, false), VsRecorder.Pokemon(\"thundurus\", missing, MoveID[\"wild-charge\", \"fly\", \"superpower\", \"electroweb\"], true, 50, \"assault-vest\", VsRecorder.Stats(164, 153, 81, 146, 100, 168), \"defiant\", \"hasty\", missing, false, false), VsRecorder.Pokemon(\"porygon2\", missing, MoveID[\"eerie-impulse\", \"recover\", \"trick-room\", \"foul-play\"], missing, 50, \"eviolite\", VsRecorder.Stats(191, 76, 144, 125, 128, 80), \"trace\", \"bold\", missing, false, false)])"
      ]
     },
     "execution_count": 4,
     "metadata": {},
     "output_type": "execute_result"
    }
   ],
   "source": [
    "team = import_team(\n",
    "    input1[\"paste\"],\n",
    "    title = input1[\"title\"],\n",
    "    author = input1[\"author\"],\n",
    "    notes = input1[\"notes\"]\n",
    ") "
   ]
  },
  {
   "cell_type": "code",
   "execution_count": 5,
   "id": "524e3704",
   "metadata": {
    "scrolled": false
   },
   "outputs": [
    {
     "name": "stdout",
     "output_type": "stream",
     "text": [
      "Calyrex-Ice @ Leftovers\n",
      "Ability: As One (Glastrier)\n",
      "Level: 50\n",
      "EVs: 252 HP / 4 Atk / 252 Spe\n",
      "Jolly Nature\n",
      "- Protect\n",
      "- Glacial Lance\n",
      "- Iron Defense\n",
      "- Body Press\n",
      "\n",
      "Ho-Oh @ Weakness Policy\n",
      "Ability: Regenerator\n",
      "Level: 50\n",
      "EVs: 252 HP / 4 Def / 164 SpA / 4 SpD / 84 Spe\n",
      "Modest Nature\n",
      "IVs: 0 Atk\n",
      "- Burn Up\n",
      "- Air Slash\n",
      "- Earth Power\n",
      "- Ancient Power\n",
      "\n",
      "Raichu @ Focus Sash\n",
      "Ability: Lightning Rod\n",
      "Level: 50\n",
      "EVs: 252 HP / 4 SpD / 252 Spe\n",
      "Timid Nature\n",
      "- Fake Out\n",
      "- Nuzzle\n",
      "- Volt Switch\n",
      "- Eerie Impulse\n",
      "\n",
      "Incineroar @ Shuca Berry\n",
      "Ability: Intimidate\n",
      "Level: 50\n",
      "EVs: 244 HP / 12 SpD / 252 Spe\n",
      "Jolly Nature\n",
      "- Fake Out\n",
      "- Flare Blitz\n",
      "- Throat Chop\n",
      "- Parting Shot\n",
      "\n",
      "Thundurus (M) @ Assault Vest\n",
      "Ability: Defiant\n",
      "Level: 50\n",
      "EVs: 76 HP / 140 Atk / 4 SpA / 172 Spe\n",
      "Hasty Nature\n",
      "- Wild Charge\n",
      "- Fly\n",
      "- Superpower\n",
      "- Electroweb\n",
      "\n",
      "Porygon2 @ Eviolite\n",
      "Ability: Trace\n",
      "Level: 50\n",
      "EVs: 244 HP / 164 Def / 100 SpD\n",
      "Bold Nature\n",
      "IVs: 0 Atk\n",
      "- Eerie Impulse\n",
      "- Recover\n",
      "- Trick Room\n",
      "- Foul Play\n",
      "\n"
     ]
    }
   ],
   "source": [
    "output = export_team(team)\n",
    "println(output)"
   ]
  },
  {
   "cell_type": "code",
   "execution_count": 6,
   "id": "c4005e82",
   "metadata": {
    "scrolled": true
   },
   "outputs": [
    {
     "data": {
      "text/plain": [
       "VsRecorder.Team(\"\", missing, \"\", VsRecorder.Pokemon[VsRecorder.Pokemon(\"calyrex-ice\", missing, MoveID[\"protect\", \"glacial-lance\", \"iron-defense\", \"body-press\"], missing, 50, \"leftovers\", VsRecorder.Stats(207, 186, 170, 94, 150, 112), \"as-one-glastrier\", \"jolly\", missing, false, false), VsRecorder.Pokemon(\"ho-oh\", missing, MoveID[\"burn-up\", \"air-slash\", \"earth-power\", \"ancient-power\"], missing, 50, \"weakness-policy\", VsRecorder.Stats(213, 121, 111, 166, 175, 121), \"regenerator\", \"modest\", missing, false, false), VsRecorder.Pokemon(\"raichu\", missing, MoveID[\"fake-out\", \"nuzzle\", \"volt-switch\", \"eerie-impulse\"], missing, 50, \"focus-sash\", VsRecorder.Stats(167, 99, 75, 110, 101, 178), \"lightning-rod\", \"timid\", missing, false, false), VsRecorder.Pokemon(\"incineroar\", missing, MoveID[\"fake-out\", \"flare-blitz\", \"throat-chop\", \"parting-shot\"], missing, 50, \"shuca-berry\", VsRecorder.Stats(201, 135, 110, 90, 112, 123), \"intimidate\", \"jolly\", missing, false, false), VsRecorder.Pokemon(\"thundurus\", missing, MoveID[\"wild-charge\", \"fly\", \"superpower\", \"electroweb\"], true, 50, \"assault-vest\", VsRecorder.Stats(164, 153, 81, 146, 100, 168), \"defiant\", \"hasty\", missing, false, false), VsRecorder.Pokemon(\"porygon2\", missing, MoveID[\"eerie-impulse\", \"recover\", \"trick-room\", \"foul-play\"], missing, 50, \"eviolite\", VsRecorder.Stats(191, 76, 144, 125, 128, 80), \"trace\", \"bold\", missing, false, false)])"
      ]
     },
     "execution_count": 6,
     "metadata": {},
     "output_type": "execute_result"
    }
   ],
   "source": [
    "team2 = import_team(output)"
   ]
  },
  {
   "cell_type": "code",
   "execution_count": 7,
   "id": "bc77e299",
   "metadata": {},
   "outputs": [],
   "source": [
    "open(joinpath(@__DIR__, \"team.yaml\"), \"w\") do fo\n",
    "    println(fo, serialize(team))\n",
    "end"
   ]
  },
  {
   "cell_type": "code",
   "execution_count": 8,
   "id": "67f044f6",
   "metadata": {},
   "outputs": [
    {
     "data": {
      "text/plain": [
       "VsRecorder.Team(\"Vs. Recorder Test Team\", \"スノル\", \"https://github.com/Wild-Area/VsRecorder.jl\", VsRecorder.Pokemon[VsRecorder.Pokemon(\"calyrex-ice\", missing, MoveID[\"protect\", \"glacial-lance\", \"iron-defense\", \"body-press\"], missing, 50, \"leftovers\", VsRecorder.Stats(207, 186, 170, 94, 150, 112), \"as-one-glastrier\", \"jolly\", missing, false, false), VsRecorder.Pokemon(\"ho-oh\", missing, MoveID[\"burn-up\", \"air-slash\", \"earth-power\", \"ancient-power\"], missing, 50, \"weakness-policy\", VsRecorder.Stats(213, 121, 111, 166, 175, 121), \"regenerator\", \"modest\", missing, false, false), VsRecorder.Pokemon(\"raichu\", missing, MoveID[\"fake-out\", \"nuzzle\", \"volt-switch\", \"eerie-impulse\"], missing, 50, \"focus-sash\", VsRecorder.Stats(167, 99, 75, 110, 101, 178), \"lightning-rod\", \"timid\", missing, false, false), VsRecorder.Pokemon(\"incineroar\", missing, MoveID[\"fake-out\", \"flare-blitz\", \"throat-chop\", \"parting-shot\"], missing, 50, \"shuca-berry\", VsRecorder.Stats(201, 135, 110, 90, 112, 123), \"intimidate\", \"jolly\", missing, false, false), VsRecorder.Pokemon(\"thundurus\", missing, MoveID[\"wild-charge\", \"fly\", \"superpower\", \"electroweb\"], true, 50, \"assault-vest\", VsRecorder.Stats(164, 153, 81, 146, 100, 168), \"defiant\", \"hasty\", missing, false, false), VsRecorder.Pokemon(\"porygon2\", missing, MoveID[\"eerie-impulse\", \"recover\", \"trick-room\", \"foul-play\"], missing, 50, \"eviolite\", VsRecorder.Stats(191, 76, 144, 125, 128, 80), \"trace\", \"bold\", missing, false, false)])"
      ]
     },
     "execution_count": 8,
     "metadata": {},
     "output_type": "execute_result"
    }
   ],
   "source": [
    "team3 = open(joinpath(@__DIR__, \"team.yaml\")) do fo\n",
    "    deserialize(fo, VsRecorder.Team)\n",
    "end"
   ]
  },
  {
   "cell_type": "code",
   "execution_count": 9,
   "id": "5da28c4d",
   "metadata": {
    "scrolled": false
   },
   "outputs": [
    {
     "name": "stdout",
     "output_type": "stream",
     "text": [
      "蕾冠王-Ice @ 吃剩的東西\n",
      "Ability: As One (Glastrier)\n",
      "Level: 50\n",
      "EVs: 252 HP / 4 Atk / 252 Spe\n",
      "爽朗 Nature\n",
      "- 守住\n",
      "- 雪矛\n",
      "- 鐵壁\n",
      "- 撲擊\n",
      "\n",
      "鳳王 @ 弱點保險\n",
      "Ability: 再生力\n",
      "Level: 50\n",
      "EVs: 252 HP / 4 Def / 164 SpA / 4 SpD / 84 Spe\n",
      "內斂 Nature\n",
      "IVs: 0 Atk\n",
      "- 燃盡\n",
      "- 空氣斬\n",
      "- 大地之力\n",
      "- 原始之力\n",
      "\n",
      "雷丘 @ 氣勢披帶\n",
      "Ability: 避雷針\n",
      "Level: 50\n",
      "EVs: 252 HP / 4 SpD / 252 Spe\n",
      "膽小 Nature\n",
      "- 擊掌奇襲\n",
      "- 蹭蹭臉頰\n",
      "- 伏特替換\n",
      "- 怪異電波\n",
      "\n",
      "熾焰咆哮虎 @ 腰木果\n",
      "Ability: 威嚇\n",
      "Level: 50\n",
      "EVs: 244 HP / 12 SpD / 252 Spe\n",
      "爽朗 Nature\n",
      "- 擊掌奇襲\n",
      "- 閃焰衝鋒\n",
      "- 地獄突刺\n",
      "- 拋下狠話\n",
      "\n",
      "雷電雲 (M) @ 突擊背心\n",
      "Ability: 不服輸\n",
      "Level: 50\n",
      "EVs: 76 HP / 140 Atk / 4 SpA / 172 Spe\n",
      "急躁 Nature\n",
      "- 瘋狂伏特\n",
      "- 飛翔\n",
      "- 蠻力\n",
      "- 電網\n",
      "\n",
      "多邊獸Ⅱ @ 進化奇石\n",
      "Ability: 複製\n",
      "Level: 50\n",
      "EVs: 244 HP / 164 Def / 100 SpD\n",
      "大膽 Nature\n",
      "IVs: 0 Atk\n",
      "- 怪異電波\n",
      "- 自我再生\n",
      "- 戲法空間\n",
      "- 欺詐\n",
      "\n"
     ]
    }
   ],
   "source": [
    "output_zh = export_team(team3, language = \"zht\")\n",
    "println(output_zh)"
   ]
  },
  {
   "cell_type": "code",
   "execution_count": null,
   "id": "bd502460",
   "metadata": {},
   "outputs": [],
   "source": []
  }
 ],
 "metadata": {
  "kernelspec": {
   "display_name": "Julia 1.7.2",
   "language": "julia",
   "name": "julia-1.7"
  },
  "language_info": {
   "file_extension": ".jl",
   "mimetype": "application/julia",
   "name": "julia",
   "version": "1.7.2"
  }
 },
 "nbformat": 4,
 "nbformat_minor": 5
}
